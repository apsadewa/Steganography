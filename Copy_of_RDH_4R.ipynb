{
  "cells": [
    {
      "cell_type": "markdown",
      "metadata": {
        "id": "view-in-github",
        "colab_type": "text"
      },
      "source": [
        "<a href=\"https://colab.research.google.com/github/apsadewa/Steganography/blob/main/Copy_of_RDH_4R.ipynb\" target=\"_parent\"><img src=\"https://colab.research.google.com/assets/colab-badge.svg\" alt=\"Open In Colab\"/></a>"
      ]
    },
    {
      "cell_type": "markdown",
      "metadata": {
        "id": "odBDjsHBcFWz"
      },
      "source": [
        "# Install and Import"
      ]
    },
    {
      "cell_type": "code",
      "execution_count": 39,
      "metadata": {
        "colab": {
          "base_uri": "https://localhost:8080/"
        },
        "id": "MEDKUmgpF_a-",
        "outputId": "3d0a0ec7-105a-4fb9-9042-69308cefd961"
      },
      "outputs": [
        {
          "output_type": "stream",
          "name": "stdout",
          "text": [
            "Requirement already satisfied: img2pdf in /usr/local/lib/python3.10/dist-packages (0.5.1)\n",
            "Requirement already satisfied: Pillow in /usr/local/lib/python3.10/dist-packages (from img2pdf) (10.4.0)\n",
            "Requirement already satisfied: pikepdf in /usr/local/lib/python3.10/dist-packages (from img2pdf) (9.0.0)\n",
            "Requirement already satisfied: Deprecated in /usr/local/lib/python3.10/dist-packages (from pikepdf->img2pdf) (1.2.14)\n",
            "Requirement already satisfied: lxml>=4.8 in /usr/local/lib/python3.10/dist-packages (from pikepdf->img2pdf) (4.9.4)\n",
            "Requirement already satisfied: packaging in /usr/local/lib/python3.10/dist-packages (from pikepdf->img2pdf) (24.1)\n",
            "Requirement already satisfied: wrapt<2,>=1.10 in /usr/local/lib/python3.10/dist-packages (from Deprecated->pikepdf->img2pdf) (1.14.1)\n",
            "Requirement already satisfied: pdf2img in /usr/local/lib/python3.10/dist-packages (0.1.2)\n",
            "Requirement already satisfied: pillow in /usr/local/lib/python3.10/dist-packages (from pdf2img) (10.4.0)\n",
            "Reading package lists... Done\n",
            "Building dependency tree... Done\n",
            "Reading state information... Done\n",
            "poppler-utils is already the newest version (22.02.0-2ubuntu0.4).\n",
            "The following packages were automatically installed and are no longer required:\n",
            "  libbz2-dev libpkgconf3 libreadline-dev\n",
            "Use 'sudo apt autoremove' to remove them.\n",
            "0 upgraded, 0 newly installed, 0 to remove and 45 not upgraded.\n"
          ]
        }
      ],
      "source": [
        "!pip install img2pdf\n",
        "!pip install pdf2img\n",
        "!sudo apt-get install poppler-utils"
      ]
    },
    {
      "cell_type": "code",
      "execution_count": 40,
      "metadata": {
        "colab": {
          "base_uri": "https://localhost:8080/"
        },
        "id": "T6jNMFk_slEZ",
        "outputId": "789622bb-b92c-4cfb-830c-a3a12e6fd6a1"
      },
      "outputs": [
        {
          "output_type": "stream",
          "name": "stdout",
          "text": [
            "Reading package lists... Done\n",
            "Building dependency tree... Done\n",
            "Reading state information... Done\n",
            "pkg-config is already the newest version (0.29.2-1ubuntu3).\n",
            "libleptonica-dev is already the newest version (1.82.0-3build1).\n",
            "libtesseract-dev is already the newest version (4.1.1-2.1build1).\n",
            "tesseract-ocr is already the newest version (4.1.1-2.1build1).\n",
            "The following packages were automatically installed and are no longer required:\n",
            "  libbz2-dev libpkgconf3 libreadline-dev\n",
            "Use 'sudo apt autoremove' to remove them.\n",
            "0 upgraded, 0 newly installed, 0 to remove and 45 not upgraded.\n",
            "Requirement already satisfied: tesserocr in /usr/local/lib/python3.10/dist-packages (2.7.0)\n",
            "Requirement already satisfied: db-sqlite3 in /usr/local/lib/python3.10/dist-packages (0.0.1)\n",
            "Requirement already satisfied: db in /usr/local/lib/python3.10/dist-packages (from db-sqlite3) (0.1.1)\n",
            "Requirement already satisfied: antiorm in /usr/local/lib/python3.10/dist-packages (from db->db-sqlite3) (1.2.1)\n",
            "Requirement already satisfied: pytesseract in /usr/local/lib/python3.10/dist-packages (0.3.10)\n",
            "Requirement already satisfied: packaging>=21.3 in /usr/local/lib/python3.10/dist-packages (from pytesseract) (24.1)\n",
            "Requirement already satisfied: Pillow>=8.0.0 in /usr/local/lib/python3.10/dist-packages (from pytesseract) (10.4.0)\n"
          ]
        }
      ],
      "source": [
        "!sudo apt install tesseract-ocr libtesseract-dev libleptonica-dev pkg-config\n",
        "!pip install tesserocr\n",
        "!pip install db-sqlite3\n",
        "!pip install pytesseract"
      ]
    },
    {
      "cell_type": "code",
      "execution_count": 41,
      "metadata": {
        "id": "nCWpwz6_E_p8"
      },
      "outputs": [],
      "source": [
        "# from image_slicer import slice\n",
        "import cv2\n",
        "from google.colab.patches import cv2_imshow\n",
        "import pandas as pd\n",
        "import numpy as np\n",
        "from math import log10, sqrt, floor\n",
        "from PIL import Image\n",
        "import matplotlib.image as mpimg\n",
        "import hashlib\n",
        "import uuid\n",
        "from numba import njit\n",
        "from numba.typed import List\n",
        "from skimage.metrics import structural_similarity as ssim\n",
        "import matplotlib.pyplot as plt\n",
        "import os\n",
        "import time\n",
        "import sqlite3\n",
        "import pandas as pd\n",
        "from google.colab import drive\n",
        "\n",
        "path = \"/content/drive/MyDrive/TA/Code/Dataset/Pengujian/\"\n",
        "realpath = \"/content/drive/MyDrive/TA/Code/Dataset/Pengujian/Refrensi/\"\n",
        "data_url = \"https://docs.google.com/spreadsheets/d/1dWyK1rubUljef-sdnRs2xb5I6s9GCZFKSkWHiBpsC5Q/edit?usp=sharing\"\n"
      ]
    },
    {
      "cell_type": "markdown",
      "metadata": {
        "id": "UaPEgZVqSI5K"
      },
      "source": [
        "# Embed Function"
      ]
    },
    {
      "cell_type": "code",
      "execution_count": 47,
      "metadata": {
        "id": "SnR44K8b6qaV",
        "colab": {
          "base_uri": "https://localhost:8080/"
        },
        "outputId": "9ad00a86-72f3-484c-89b6-136a60e254cb"
      },
      "outputs": [
        {
          "output_type": "stream",
          "name": "stdout",
          "text": [
            "Table 'validation' created successfully in val.db\n"
          ]
        }
      ],
      "source": [
        "import sqlite3\n",
        "\n",
        "def createDB(dbname):\n",
        "    # Connect to the database\n",
        "    db = sqlite3.connect(dbname + \".db\")\n",
        "\n",
        "    # Drop the table if it exists\n",
        "    db.execute(\"DROP TABLE IF EXISTS validation\")\n",
        "\n",
        "    # Create the table\n",
        "    try:\n",
        "        db.execute(\"CREATE TABLE validation(name TEXT, seed TEXT)\")\n",
        "        print(f\"Table 'validation' created successfully in {dbname}.db\")\n",
        "    except Exception as e:\n",
        "        print(f\"Error creating table: {e}\")\n",
        "\n",
        "    # Commit the changes and close the connection\n",
        "    db.commit()\n",
        "    db.close()\n",
        "\n",
        "def insertData(name, seed):\n",
        "    # Connect to the database\n",
        "    db = sqlite3.connect(\"val.db\")\n",
        "\n",
        "    # Check if the name already exists\n",
        "    cek = \"SELECT name FROM validation WHERE name=?\"\n",
        "    rs = db.execute(cek, (name,)).fetchall()\n",
        "\n",
        "    # If the name does not exist, insert a new record\n",
        "    if len(rs) == 0:\n",
        "        cmd = \"INSERT INTO validation(name, seed) VALUES(?, ?)\"\n",
        "        db.execute(cmd, (name, seed))\n",
        "    # If the name exists, update the existing record\n",
        "    else:\n",
        "        cmd = \"UPDATE validation SET seed = ? WHERE name = ?\"\n",
        "        db.execute(cmd, (seed, name))\n",
        "\n",
        "    # Commit the changes and close the connection\n",
        "    db.commit()\n",
        "    db.close()\n",
        "\n",
        "# Create the database and table\n",
        "createDB(\"val\")"
      ]
    },
    {
      "cell_type": "code",
      "execution_count": 48,
      "metadata": {
        "id": "qRzFvOHMDdhX"
      },
      "outputs": [],
      "source": [
        "@njit\n",
        "def toModthree(value):\n",
        "  if (value%3 == 1):\n",
        "    value-=1\n",
        "  elif(value%3 == 2):\n",
        "    value+=1\n",
        "  return value"
      ]
    },
    {
      "cell_type": "code",
      "execution_count": 49,
      "metadata": {
        "id": "Nmumc9_ZPfWZ"
      },
      "outputs": [],
      "source": [
        "def SubBlockImage(img, height, width):\n",
        "  block = []\n",
        "  for i in range(height):\n",
        "    k=0\n",
        "    for j in range(3,width+3, 3): # Membagi setiap baris menjadi blok-blok dengan lebar 3\n",
        "      block.append(img[i,k:j])\n",
        "      k+=3\n",
        "  block = np.asarray(block)\n",
        "  return block"
      ]
    },
    {
      "cell_type": "code",
      "execution_count": 50,
      "metadata": {
        "id": "WBqk9nNtp39D"
      },
      "outputs": [],
      "source": [
        "@njit(fastmath=True)\n",
        "def binarySearch (arr, l, r, x):\n",
        "    if r >= l:\n",
        "        mid = l + (r - l) // 2\n",
        "        if arr[mid] == x:\n",
        "            return True\n",
        "        elif arr[mid] > x:\n",
        "            return binarySearch(arr, l, mid-1, x)\n",
        "        else:\n",
        "            return binarySearch(arr, mid + 1, r, x)\n",
        "    else:\n",
        "        return False\n",
        "\n",
        "@njit(fastmath=True)\n",
        "def calculateBlock(pixels):\n",
        "  s=0\n",
        "  for i in range(len(pixels)):\n",
        "    s+=pixels[i]\n",
        "  return int(s*100)\n",
        "\n",
        "@njit(fastmath=True)\n",
        "def OverUnder_Flow_Handle(block, idx):\n",
        "  L=[]\n",
        "  S=[]\n",
        "  for j in range(len(block)):\n",
        "    k = 0\n",
        "    p=0\n",
        "    flag = binarySearch(idx, 0, len(idx)-1, j)\n",
        "    for i in range(9):\n",
        "\n",
        "      if(i%3==0 and i!=0):\n",
        "        k+=1\n",
        "      if flag:\n",
        "        p+=block[j,k,i%3]/255\n",
        "\n",
        "      if(block[j,k,i%3] == 0):\n",
        "        block[j,k,i%3] = 1\n",
        "        L.append(1)\n",
        "\n",
        "      elif(block[j,k,i%3] == 255):\n",
        "        block[j,k,i%3] = 254\n",
        "        L.append(1)\n",
        "\n",
        "      elif(block[j,k,i%3] == 1 or block[j,k,i%3] == 254):\n",
        "        L.append(0)\n",
        "\n",
        "    if flag:\n",
        "      S.append(int(p*100))\n",
        "  return L, S, block"
      ]
    },
    {
      "cell_type": "code",
      "execution_count": 51,
      "metadata": {
        "id": "KIiWXzOkW4oj"
      },
      "outputs": [],
      "source": [
        "def generateRandInd(lenSubBlock, seed=None):\n",
        "  idx = []\n",
        "  if not seed:\n",
        "    seed = int(np.random.uniform(0,9999))\n",
        "  rng = np.random.default_rng(seed)\n",
        "  for i in range(lenSubBlock):\n",
        "    if(rng.random() > 0.99):\n",
        "      idx.append(i)\n",
        "  return List(idx), seed\n",
        "\n",
        "def generateRandEmb(ids, lenSubBlock, seed):\n",
        "  print(\"MASUK KE RANDEMBD\")\n",
        "  print(ids, lenSubBlock, seed)\n",
        "  rng = np.random.default_rng(seed)\n",
        "  a = [i for i in range(ids+1,lenSubBlock)]\n",
        "  print(\"ids {}, len {}, seed {}\".format(ids, lenSubBlock, seed))\n",
        "  idx = rng.choice(a,len(a), replace=False)\n",
        "  print(idx)\n",
        "  return List(idx)\n",
        "\n",
        "  #ada index buat di sum\n",
        "  #ad index buat embed"
      ]
    },
    {
      "cell_type": "code",
      "execution_count": 52,
      "metadata": {
        "id": "suBLLyvw4f9U"
      },
      "outputs": [],
      "source": [
        "@njit\n",
        "def differencePixel(C1, subBlocks):\n",
        "  C1 = C1.astype(np.int16)\n",
        "  for i in range(len(C1)):\n",
        "    k = 0\n",
        "    x = subBlocks[i,k+1,1]\n",
        "    for j in range(9):\n",
        "      # print(i, k , j)\n",
        "      if(j%3==0 and j!=0):\n",
        "        k+=1\n",
        "      if(j%3==1 and k==1):\n",
        "        C1[i,k,j%3] = x\n",
        "      else:\n",
        "        C1[i,k,j%3] -= x\n",
        "  return C1"
      ]
    },
    {
      "cell_type": "code",
      "execution_count": 53,
      "metadata": {
        "id": "SLgJUGSfitxX"
      },
      "outputs": [],
      "source": [
        "def InData(name, S, L):\n",
        "  strS = ''.join([str(bin(x))[2:].zfill(10) for x in S])\n",
        "  strL = ''.join(map(str,L))\n",
        "  sep = ''.join(format(i, '08b') for i in bytearray(\"|\", encoding ='utf-8')).zfill(10) + ''.join(format(i, '08b') for i in bytearray(\">\", encoding ='utf-8')).zfill(10)\n",
        "  print(\"sep:\", sep)\n",
        "  data =  name +\"|\"\n",
        "\n",
        "  bindata = ''.join(format(i, '08b') for i in bytearray(data, encoding ='utf-8'))\n",
        "\n",
        "  mergedata = bindata + strS + sep + strL\n",
        "  mergedataInt = List(list(map(int, [bit for bit in mergedata])))\n",
        "  return mergedataInt\n",
        "\n",
        "def stringTobit(string):\n",
        "  bindata = ''.join(format(i, '08b') for i in bytearray(string, encoding ='utf-8'))\n",
        "  return list(map(int, [bit for bit in bindata]))\n"
      ]
    },
    {
      "cell_type": "code",
      "execution_count": null,
      "metadata": {
        "id": "m7bCP-YBe7UP"
      },
      "outputs": [],
      "source": [
        "@njit\n",
        "def embeddingImg(C1, D, data, pr, pl):\n",
        "    counterData = 0\n",
        "\n",
        "    for idx in range(len(subBlock)):\n",
        "        i = idx // C1.shape[1]  # Menghitung indeks i\n",
        "        k = idx % C1.shape[1]  # Menghitung indeks k\n",
        "\n",
        "        for j in range(9):  # Iterasi melalui 9 elemen yang mungkin dalam dimensi ketiga\n",
        "            if j % 3 == 0 and j != 0:\n",
        "                k += 1\n",
        "\n",
        "            if j % 3 == 1 and k == 1:\n",
        "                C1[i, k, j % 3] += 0\n",
        "            elif counterData < len(data):\n",
        "                if D[i, k, j % 3] < pl:\n",
        "                    C1[i, k, j % 3] -= 1\n",
        "                elif D[i, k, j % 3] == pl:\n",
        "                    C1[i, k, j % 3] -= data[counterData]\n",
        "                    counterData += 1\n",
        "                elif D[i, k, j % 3] == pr:\n",
        "                    C1[i, k, j % 3] += data[counterData]\n",
        "                    counterData += 1\n",
        "                elif D[i, k, j % 3] > pr:\n",
        "                    C1[i, k, j % 3] += 1\n",
        "            elif counterData >= len(data):\n",
        "                if D[i, k, j % 3] <= pl:\n",
        "                    C1[i, k, j % 3] -= 1\n",
        "                elif D[i, k, j % 3] >= pr:\n",
        "                    C1[i, k, j % 3] += 1\n",
        "                counterData += 1\n",
        "\n",
        "    return C1\n"
      ]
    },
    {
      "cell_type": "code",
      "execution_count": 35,
      "metadata": {
        "id": "d7bGNz4iGBmn"
      },
      "outputs": [],
      "source": [
        "def stackImage(C2_Block, height, width):\n",
        "  index1 = 0\n",
        "  index2 = width//3\n",
        "  z = list()\n",
        "  for i in range(height):\n",
        "    z.append(np.reshape(C2_Block[index1:index2],(width,3)))\n",
        "    index1 = index2\n",
        "    index2 += width//3\n",
        "  return np.array(z)"
      ]
    },
    {
      "cell_type": "code",
      "execution_count": 36,
      "metadata": {
        "id": "i43WbZSzMFyR"
      },
      "outputs": [],
      "source": [
        "@njit\n",
        "def PSNR(original, embedded):\n",
        "    mse = np.mean((original - embedded) ** 2)\n",
        "    if(mse == 0):  # MSE is zero means no noise is present in the signal .\n",
        "                  # Therefore PSNR have no importance.\n",
        "        return 100\n",
        "    max_pixel = 255.0\n",
        "    psnr = 20 * log10(max_pixel / sqrt(mse))\n",
        "    return psnr"
      ]
    },
    {
      "cell_type": "code",
      "execution_count": 37,
      "metadata": {
        "id": "KNq9wiq1FAT3"
      },
      "outputs": [],
      "source": [
        "def Embedding(img, name):\n",
        "    height, width = img.shape[0], img.shape[1]\n",
        "    height, width = toModthree(height), toModthree(width)\n",
        "    img = cv2.resize(img, (width, height))\n",
        "    print(\"Shape\", img.shape)\n",
        "\n",
        "    subBlock = SubBlockImage(img, height, width)\n",
        "    Lidx, seed = generateRandInd(len(subBlock), seed=1234)\n",
        "    print(\"restidx: \", len(Lidx), Lidx)\n",
        "    print(\"seed awal : \", seed)\n",
        "    mapL, mapS, C = OverUnder_Flow_Handle(subBlock, Lidx)\n",
        "    data = InData(name, mapS, mapL)\n",
        "    print(\"Len Block : \",len(subBlock))\n",
        "    print(\"Data :\", len(data), data)\n",
        "    print(\"seed:\", seed)\n",
        "    print(\"len sub: \", len(subBlock))\n",
        "    print(\"mapS :\", len(mapS), mapS)\n",
        "    print(\"mapL :\", len(mapL), mapL)\n",
        "\n",
        "\n",
        "    subCopy = C.copy()\n",
        "    D = differencePixel(subCopy, C)\n",
        "    plt.hist(D.ravel(), 256, [0, 256])\n",
        "    plt.show()\n",
        "    pr, pl = getpeakvalue(D, data)\n",
        "    print(pr, pl)\n",
        "    pp = \"\"\n",
        "\n",
        "    if pr < 0:\n",
        "        pr_fix = abs(pr)\n",
        "        pl_fix = abs(pl)\n",
        "        pp += \"11\"\n",
        "    elif pl < 0:\n",
        "        pl_fix = abs(pl)\n",
        "        pr_fix = pr\n",
        "        pp += \"01\"\n",
        "    else:\n",
        "        pr_fix = pr\n",
        "        pl_fix = pl\n",
        "        pp += \"00\"\n",
        "\n",
        "    pp += format(pr_fix, \"b\").zfill(8)\n",
        "    pp += format(pl_fix, \"b\").zfill(8)\n",
        "\n",
        "    pp = list(map(int, pp))\n",
        "    data = list(data)\n",
        "    print(\"List Data :\", data)\n",
        "    embedding_data = List(pp + data)\n",
        "    print(\"pp : \", pp)\n",
        "\n",
        "    # Panggil fungsi embedding hanya dengan lima argumen\n",
        "    C2 = embeddingImg(C.copy(), D, embedding_data, pr, pl)\n",
        "    embed_image = stackImage(C2, height, width)\n",
        "\n",
        "    return cv2.imwrite(\"Embedded.png\", embed_image)\n",
        "\n",
        "\n",
        "\n",
        "def getpeakvalue(difblock, data):\n",
        "  unique, counts = np.unique(difblock, return_counts=True)\n",
        "  dicts = dict(zip(unique, counts))\n",
        "  #print(\"dblock: \",difblock)\n",
        "  print(\"dicts:\", dicts)\n",
        "  getTwopeak = sorted(((v,k) for k,v in dicts.items()))[-2:] #membuat generator yang menghasilkan pasangan (frekuensi, nilai) dan mengurutkan pasangan berdasarkan frekuensi dalam urutan menaik dan mengambil dua elemen terakhir (dua nilai dengan frekuensi tertinggi)\n",
        "  if(getTwopeak[0][1] > getTwopeak[1][1]): #menetapkan pr (nilai puncak tertinggi) dan pl (nilai puncak terendah)\n",
        "    pr = getTwopeak[0][1]\n",
        "    pl = getTwopeak[1][1]\n",
        "  else:\n",
        "    pr = getTwopeak[1][1]\n",
        "    pl = getTwopeak[0][1]\n",
        "  print(getTwopeak[0][0],getTwopeak[0][1], getTwopeak[1][0], getTwopeak[1][1],\"pr: \", pr, \"pl :\",pl)\n",
        "  return pr, pl\n"
      ]
    },
    {
      "cell_type": "markdown",
      "metadata": {
        "id": "O-9BbxZ1SMMT"
      },
      "source": [
        "# Run Embed"
      ]
    },
    {
      "cell_type": "code",
      "execution_count": 38,
      "metadata": {
        "id": "Ce7WoRrZ8zsn",
        "colab": {
          "base_uri": "https://localhost:8080/",
          "height": 356
        },
        "outputId": "2e48e80e-886e-4e2d-fde0-33a57ba693a7"
      },
      "outputs": [
        {
          "output_type": "error",
          "ename": "KeyboardInterrupt",
          "evalue": "",
          "traceback": [
            "\u001b[0;31m---------------------------------------------------------------------------\u001b[0m",
            "\u001b[0;31mKeyboardInterrupt\u001b[0m                         Traceback (most recent call last)",
            "\u001b[0;32m<ipython-input-38-ae646fc95357>\u001b[0m in \u001b[0;36m<cell line: 5>\u001b[0;34m()\u001b[0m\n\u001b[1;32m      3\u001b[0m \u001b[0;34m\u001b[0m\u001b[0m\n\u001b[1;32m      4\u001b[0m \u001b[0;31m# Mount Google Drive\u001b[0m\u001b[0;34m\u001b[0m\u001b[0;34m\u001b[0m\u001b[0m\n\u001b[0;32m----> 5\u001b[0;31m \u001b[0mdrive\u001b[0m\u001b[0;34m.\u001b[0m\u001b[0mmount\u001b[0m\u001b[0;34m(\u001b[0m\u001b[0;34m'/content/drive'\u001b[0m\u001b[0;34m,\u001b[0m\u001b[0mforce_remount\u001b[0m\u001b[0;34m=\u001b[0m\u001b[0;32mTrue\u001b[0m\u001b[0;34m)\u001b[0m\u001b[0;34m\u001b[0m\u001b[0;34m\u001b[0m\u001b[0m\n\u001b[0m\u001b[1;32m      6\u001b[0m \u001b[0;34m\u001b[0m\u001b[0m\n\u001b[1;32m      7\u001b[0m \u001b[0;31m# Tetapkan path\u001b[0m\u001b[0;34m\u001b[0m\u001b[0;34m\u001b[0m\u001b[0m\n",
            "\u001b[0;32m/usr/local/lib/python3.10/dist-packages/google/colab/drive.py\u001b[0m in \u001b[0;36mmount\u001b[0;34m(mountpoint, force_remount, timeout_ms, readonly)\u001b[0m\n\u001b[1;32m     98\u001b[0m \u001b[0;32mdef\u001b[0m \u001b[0mmount\u001b[0m\u001b[0;34m(\u001b[0m\u001b[0mmountpoint\u001b[0m\u001b[0;34m,\u001b[0m \u001b[0mforce_remount\u001b[0m\u001b[0;34m=\u001b[0m\u001b[0;32mFalse\u001b[0m\u001b[0;34m,\u001b[0m \u001b[0mtimeout_ms\u001b[0m\u001b[0;34m=\u001b[0m\u001b[0;36m120000\u001b[0m\u001b[0;34m,\u001b[0m \u001b[0mreadonly\u001b[0m\u001b[0;34m=\u001b[0m\u001b[0;32mFalse\u001b[0m\u001b[0;34m)\u001b[0m\u001b[0;34m:\u001b[0m\u001b[0;34m\u001b[0m\u001b[0;34m\u001b[0m\u001b[0m\n\u001b[1;32m     99\u001b[0m   \u001b[0;34m\"\"\"Mount your Google Drive at the specified mountpoint path.\"\"\"\u001b[0m\u001b[0;34m\u001b[0m\u001b[0;34m\u001b[0m\u001b[0m\n\u001b[0;32m--> 100\u001b[0;31m   return _mount(\n\u001b[0m\u001b[1;32m    101\u001b[0m       \u001b[0mmountpoint\u001b[0m\u001b[0;34m,\u001b[0m\u001b[0;34m\u001b[0m\u001b[0;34m\u001b[0m\u001b[0m\n\u001b[1;32m    102\u001b[0m       \u001b[0mforce_remount\u001b[0m\u001b[0;34m=\u001b[0m\u001b[0mforce_remount\u001b[0m\u001b[0;34m,\u001b[0m\u001b[0;34m\u001b[0m\u001b[0;34m\u001b[0m\u001b[0m\n",
            "\u001b[0;32m/usr/local/lib/python3.10/dist-packages/google/colab/drive.py\u001b[0m in \u001b[0;36m_mount\u001b[0;34m(mountpoint, force_remount, timeout_ms, ephemeral, readonly)\u001b[0m\n\u001b[1;32m    131\u001b[0m   )\n\u001b[1;32m    132\u001b[0m   \u001b[0;32mif\u001b[0m \u001b[0mephemeral\u001b[0m\u001b[0;34m:\u001b[0m\u001b[0;34m\u001b[0m\u001b[0;34m\u001b[0m\u001b[0m\n\u001b[0;32m--> 133\u001b[0;31m     _message.blocking_request(\n\u001b[0m\u001b[1;32m    134\u001b[0m         \u001b[0;34m'request_auth'\u001b[0m\u001b[0;34m,\u001b[0m\u001b[0;34m\u001b[0m\u001b[0;34m\u001b[0m\u001b[0m\n\u001b[1;32m    135\u001b[0m         \u001b[0mrequest\u001b[0m\u001b[0;34m=\u001b[0m\u001b[0;34m{\u001b[0m\u001b[0;34m'authType'\u001b[0m\u001b[0;34m:\u001b[0m \u001b[0;34m'dfs_ephemeral'\u001b[0m\u001b[0;34m}\u001b[0m\u001b[0;34m,\u001b[0m\u001b[0;34m\u001b[0m\u001b[0;34m\u001b[0m\u001b[0m\n",
            "\u001b[0;32m/usr/local/lib/python3.10/dist-packages/google/colab/_message.py\u001b[0m in \u001b[0;36mblocking_request\u001b[0;34m(request_type, request, timeout_sec, parent)\u001b[0m\n\u001b[1;32m    174\u001b[0m       \u001b[0mrequest_type\u001b[0m\u001b[0;34m,\u001b[0m \u001b[0mrequest\u001b[0m\u001b[0;34m,\u001b[0m \u001b[0mparent\u001b[0m\u001b[0;34m=\u001b[0m\u001b[0mparent\u001b[0m\u001b[0;34m,\u001b[0m \u001b[0mexpect_reply\u001b[0m\u001b[0;34m=\u001b[0m\u001b[0;32mTrue\u001b[0m\u001b[0;34m\u001b[0m\u001b[0;34m\u001b[0m\u001b[0m\n\u001b[1;32m    175\u001b[0m   )\n\u001b[0;32m--> 176\u001b[0;31m   \u001b[0;32mreturn\u001b[0m \u001b[0mread_reply_from_input\u001b[0m\u001b[0;34m(\u001b[0m\u001b[0mrequest_id\u001b[0m\u001b[0;34m,\u001b[0m \u001b[0mtimeout_sec\u001b[0m\u001b[0;34m)\u001b[0m\u001b[0;34m\u001b[0m\u001b[0;34m\u001b[0m\u001b[0m\n\u001b[0m",
            "\u001b[0;32m/usr/local/lib/python3.10/dist-packages/google/colab/_message.py\u001b[0m in \u001b[0;36mread_reply_from_input\u001b[0;34m(message_id, timeout_sec)\u001b[0m\n\u001b[1;32m     94\u001b[0m     \u001b[0mreply\u001b[0m \u001b[0;34m=\u001b[0m \u001b[0m_read_next_input_message\u001b[0m\u001b[0;34m(\u001b[0m\u001b[0;34m)\u001b[0m\u001b[0;34m\u001b[0m\u001b[0;34m\u001b[0m\u001b[0m\n\u001b[1;32m     95\u001b[0m     \u001b[0;32mif\u001b[0m \u001b[0mreply\u001b[0m \u001b[0;34m==\u001b[0m \u001b[0m_NOT_READY\u001b[0m \u001b[0;32mor\u001b[0m \u001b[0;32mnot\u001b[0m \u001b[0misinstance\u001b[0m\u001b[0;34m(\u001b[0m\u001b[0mreply\u001b[0m\u001b[0;34m,\u001b[0m \u001b[0mdict\u001b[0m\u001b[0;34m)\u001b[0m\u001b[0;34m:\u001b[0m\u001b[0;34m\u001b[0m\u001b[0;34m\u001b[0m\u001b[0m\n\u001b[0;32m---> 96\u001b[0;31m       \u001b[0mtime\u001b[0m\u001b[0;34m.\u001b[0m\u001b[0msleep\u001b[0m\u001b[0;34m(\u001b[0m\u001b[0;36m0.025\u001b[0m\u001b[0;34m)\u001b[0m\u001b[0;34m\u001b[0m\u001b[0;34m\u001b[0m\u001b[0m\n\u001b[0m\u001b[1;32m     97\u001b[0m       \u001b[0;32mcontinue\u001b[0m\u001b[0;34m\u001b[0m\u001b[0;34m\u001b[0m\u001b[0m\n\u001b[1;32m     98\u001b[0m     if (\n",
            "\u001b[0;31mKeyboardInterrupt\u001b[0m: "
          ]
        }
      ],
      "source": [
        "from google.colab import drive\n",
        "import os\n",
        "\n",
        "# Mount Google Drive\n",
        "drive.mount('/content/drive',force_remount=True)\n",
        "\n",
        "# Tetapkan path\n",
        "realpath = \"/content/drive/MyDrive/TA/Code/Dataset/Pengujian/Refrensi\"\n",
        "subdir = realpath + \"/\"\n",
        "\n",
        "# Periksa apakah path ada\n",
        "if os.path.exists(subdir):\n",
        "    try:\n",
        "        # Ambil dan sortir daftar file\n",
        "        imgList = sorted(os.listdir(subdir), key=lambda x: int(x.split('.')[0]))\n",
        "        print(\"List of images:\", imgList)\n",
        "    except Exception as e:\n",
        "        print(f\"Error accessing directory: {e}\")\n",
        "else:\n",
        "    print(f\"Subdirectory does not exist: {subdir}\")\n",
        "\n",
        "    # Daftar isi direktori utama untuk debugging\n",
        "    if os.path.exists(realpath):\n",
        "        print(\"Contents of the main directory:\")\n",
        "        print(os.listdir(realpath))\n",
        "    else:\n",
        "        print(f\"Main directory does not exist: {realpath}\")\n"
      ]
    },
    {
      "cell_type": "code",
      "execution_count": null,
      "metadata": {
        "id": "1PBvvRxpJGJH"
      },
      "outputs": [],
      "source": [
        "img = cv2.imread(\"/content/drive/MyDrive/TA/Code/Dataset/Pengujian/Refrensi/1.jpg\")\n",
        "\n",
        "width, height = 1280, 720\n",
        "img = cv2.resize(img, (width,height))"
      ]
    },
    {
      "cell_type": "code",
      "execution_count": null,
      "metadata": {
        "id": "Si0fiLn8VOXI"
      },
      "outputs": [],
      "source": [
        "cv2_imshow(img)"
      ]
    },
    {
      "cell_type": "code",
      "execution_count": null,
      "metadata": {
        "id": "Tyw3EOtEKPUz"
      },
      "outputs": [],
      "source": [
        "name = \"Xebelion\"\n",
        "\n",
        "%time Embedding(img, name)"
      ]
    },
    {
      "cell_type": "code",
      "execution_count": null,
      "metadata": {
        "id": "yIZhaTm8PS1D"
      },
      "outputs": [],
      "source": [
        "cv2_imshow(cv2.imread(\"/content/Embedded.png\"))"
      ]
    },
    {
      "cell_type": "code",
      "execution_count": null,
      "metadata": {
        "id": "XqIkAJ8muPWH"
      },
      "outputs": [],
      "source": [
        "!ls -s"
      ]
    },
    {
      "cell_type": "markdown",
      "metadata": {
        "id": "OUbmg3NK304F"
      },
      "source": [
        "# Extraction\n",
        "\n",
        "\n"
      ]
    },
    {
      "cell_type": "code",
      "source": [],
      "metadata": {
        "id": "KylOJaKJ4Ij3"
      },
      "execution_count": null,
      "outputs": []
    }
  ],
  "metadata": {
    "colab": {
      "provenance": [],
      "include_colab_link": true
    },
    "kernelspec": {
      "display_name": "Python 3",
      "name": "python3"
    },
    "language_info": {
      "name": "python"
    }
  },
  "nbformat": 4,
  "nbformat_minor": 0
}